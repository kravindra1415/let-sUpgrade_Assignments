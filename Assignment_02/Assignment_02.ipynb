{
 "cells": [
  {
   "cell_type": "code",
   "execution_count": 5,
   "metadata": {},
   "outputs": [
    {
     "name": "stdout",
     "output_type": "stream",
     "text": [
      "[1, 2, 3, 4, 5, 7]\n"
     ]
    }
   ],
   "source": [
    "#Q1.write a python program to remove duplicates from a list\n",
    "\n",
    "def Remove(duplicate):\n",
    "    myList=[]\n",
    "    for num in duplicate:\n",
    "        if num not in myList:\n",
    "            myList.append(num)\n",
    "    return myList\n",
    "\n",
    "duplicate=[1,2,3,3,4,3,5,7,2]\n",
    "print(Remove(duplicate))"
   ]
  },
  {
   "cell_type": "code",
   "execution_count": 6,
   "metadata": {},
   "outputs": [
    {
     "name": "stdout",
     "output_type": "stream",
     "text": [
      "[9, 3, 7]\n"
     ]
    }
   ],
   "source": [
    "#Q2.Write a Python program to get the difference between the two lists\n",
    "list1=[1,2,4,5,6,7,3,9]\n",
    "list2=[5,6,2,1,2,1,4,6]\n",
    "diff_list1_list2=list(set(list1)-set(list2))\n",
    "diff_list2_list1=list(set(list2)-set(list1))\n",
    "total_diff=(diff_list2_list1)+(diff_list1_list2)\n",
    "print(total_diff)\n"
   ]
  },
  {
   "cell_type": "code",
   "execution_count": 3,
   "metadata": {},
   "outputs": [
    {
     "name": "stdout",
     "output_type": "stream",
     "text": [
      "1 : 5\n",
      "5 : 2\n",
      "3 : 3\n",
      "4 : 3\n",
      "2 : 4\n"
     ]
    }
   ],
   "source": [
    "#Q3.Write a Python program to get the frequency of the elements in a list\n",
    "def countfreq(myList):\n",
    "    freq={}\n",
    "    for item in myList:\n",
    "        if(item in freq):\n",
    "            freq[item]+=1\n",
    "        else:\n",
    "            freq[item]=1\n",
    "            \n",
    "    for key,value in freq.items():\n",
    "        print(\"%d : %d\"%(key,value))\n",
    "        \n",
    "if __name__ == \"__main__\": \n",
    "    myList=[1, 1, 1, 5, 5, 3, 1, 3, 3, 1, 4, 4, 4, 2, 2, 2, 2] \n",
    "    \n",
    "    countfreq(myList)"
   ]
  },
  {
   "cell_type": "code",
   "execution_count": 5,
   "metadata": {},
   "outputs": [
    {
     "name": "stdout",
     "output_type": "stream",
     "text": [
      "Color1-Color2:  ['red', 'orange', 'white']\n",
      "Color2-Color1:  ['black', 'yellow']\n"
     ]
    }
   ],
   "source": [
    "#Q4.Write a Python program to compute the similarity between two lists.\n",
    "from collections import Counter\n",
    "color1 = [\"red\", \"orange\", \"green\", \"blue\", \"white\"]\n",
    "color2 = [\"black\", \"yellow\", \"green\", \"blue\"]\n",
    "counter1 = Counter(color1)\n",
    "counter2 = Counter(color2)\n",
    "print(\"Color1-Color2: \",list(counter1 - counter2))\n",
    "print(\"Color2-Color1: \",list(counter2 - counter1))\n"
   ]
  },
  {
   "cell_type": "code",
   "execution_count": 11,
   "metadata": {},
   "outputs": [
    {
     "name": "stdout",
     "output_type": "stream",
     "text": [
      "\n",
      "Longest word: ravindra\n",
      "Length of the longest word: 8\n"
     ]
    }
   ],
   "source": [
    "#Q5.Write a Python function that takes a list of words and returns the length of the longest one\n",
    "def long_word(word_list):\n",
    "    word_len=[]\n",
    "    for n in word_list:\n",
    "         word_len.append((len(n), n))\n",
    "    word_len.sort()\n",
    "    return word_len[-1][0],word_len[-1][1]\n",
    "result=long_word([\"virat\",\"ravindra\",\"rishabh\"])\n",
    "print(\"\\nLongest word:\",result[1])\n",
    "print(\"Length of the longest word:\",result[0])"
   ]
  },
  {
   "cell_type": "code",
   "execution_count": 12,
   "metadata": {},
   "outputs": [
    {
     "name": "stdout",
     "output_type": "stream",
     "text": [
      "{'the': 2, 'quick': 1, 'brown': 1, 'fox': 1, 'jumps': 1, 'over': 1, 'lazy': 1, 'dog.': 1}\n"
     ]
    }
   ],
   "source": [
    "#Q6.write a python program to count the occurrences of each word in a given sentence\n",
    "def word_count(str):\n",
    "    counts = dict()\n",
    "    words = str.split()\n",
    "\n",
    "    for word in words:\n",
    "        if word in counts:\n",
    "            counts[word] += 1\n",
    "        else:\n",
    "            counts[word] = 1\n",
    "\n",
    "    return counts\n",
    "\n",
    "print( word_count('the quick brown fox jumps over the lazy dog.'))\n"
   ]
  },
  {
   "cell_type": "code",
   "execution_count": 14,
   "metadata": {},
   "outputs": [
    {
     "name": "stdout",
     "output_type": "stream",
     "text": [
      "3\n",
      "['u', 'a', 'i']\n"
     ]
    }
   ],
   "source": [
    "#Q7.write a python program to count and display the vowels of a given text\n",
    "def vowel(text):\n",
    "    vowels = \"aeiuoAEIOU\"\n",
    "    print(len([letter for letter in text if letter in vowels]))\n",
    "    print([letter for letter in text if letter in vowels])\n",
    "vowel('mumbai');\n"
   ]
  },
  {
   "cell_type": "code",
   "execution_count": null,
   "metadata": {},
   "outputs": [],
   "source": []
  }
 ],
 "metadata": {
  "kernelspec": {
   "display_name": "Python 3",
   "language": "python",
   "name": "python3"
  },
  "language_info": {
   "codemirror_mode": {
    "name": "ipython",
    "version": 3
   },
   "file_extension": ".py",
   "mimetype": "text/x-python",
   "name": "python",
   "nbconvert_exporter": "python",
   "pygments_lexer": "ipython3",
   "version": "3.8.5"
  }
 },
 "nbformat": 4,
 "nbformat_minor": 4
}
