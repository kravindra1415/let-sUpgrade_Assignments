{
 "cells": [
  {
   "cell_type": "code",
   "execution_count": null,
   "metadata": {},
   "outputs": [],
   "source": [
    "import smtplib\n",
    "\n",
    "#smtp seesion\n",
    "s=smtplib.SMTP(\"smtp.gmail.com\",587)\n",
    "\n",
    "#security \n",
    "s.starttls()\n",
    "\n",
    "s.login(\"kravindra141516@gmail.com\",\"rolhsvmpoobjtusx\")\n",
    "\n",
    "msg=input(\"Enter your message here\")\n",
    "s.sendmail(\"kravindra141516@gmail.com\",\"kravindra1415@gmail.com\",msg)\n",
    " \n",
    "s.quit()"
   ]
  }
 ],
 "metadata": {
  "kernelspec": {
   "display_name": "Python 3",
   "language": "python",
   "name": "python3"
  },
  "language_info": {
   "codemirror_mode": {
    "name": "ipython",
    "version": 3
   },
   "file_extension": ".py",
   "mimetype": "text/x-python",
   "name": "python",
   "nbconvert_exporter": "python",
   "pygments_lexer": "ipython3",
   "version": "3.8.5"
  }
 },
 "nbformat": 4,
 "nbformat_minor": 4
}
