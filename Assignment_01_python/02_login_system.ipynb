{
 "cells": [
  {
   "cell_type": "code",
   "execution_count": 1,
   "metadata": {},
   "outputs": [
    {
     "name": "stdout",
     "output_type": "stream",
     "text": [
      "Enter username and password\n",
      "Enter username:a\n",
      "Enter password:a\n",
      "invalid credentials\n",
      "Enter username:a\n",
      "Enter password:a\n",
      "invalid credentials\n",
      "Enter username:a\n",
      "Enter password:a\n",
      "invalid credentials\n",
      "Enter username:a\n",
      "Enter password:aa\n",
      "invalid credentials\n",
      "Enter username:\n",
      "Enter password:a\n",
      "invalid credentials\n",
      "try after some time\n"
     ]
    }
   ],
   "source": [
    "# Login System\n",
    "\n",
    "print('Enter username and password')\n",
    "count=0\n",
    "while count<5:\n",
    "    username=input('Enter username:')\n",
    "    password=input('Enter password:')\n",
    "    if username=='root' and password=='root':\n",
    "        print('login successful..')\n",
    "        break\n",
    "    else:\n",
    "        print('invalid credentials')\n",
    "        count=count+1\n",
    "print('try after some time')"
   ]
  },
  {
   "cell_type": "code",
   "execution_count": null,
   "metadata": {},
   "outputs": [],
   "source": []
  },
  {
   "cell_type": "code",
   "execution_count": null,
   "metadata": {},
   "outputs": [],
   "source": []
  },
  {
   "cell_type": "code",
   "execution_count": null,
   "metadata": {},
   "outputs": [],
   "source": []
  }
 ],
 "metadata": {
  "kernelspec": {
   "display_name": "Python 3",
   "language": "python",
   "name": "python3"
  },
  "language_info": {
   "codemirror_mode": {
    "name": "ipython",
    "version": 3
   },
   "file_extension": ".py",
   "mimetype": "text/x-python",
   "name": "python",
   "nbconvert_exporter": "python",
   "pygments_lexer": "ipython3",
   "version": "3.8.5"
  }
 },
 "nbformat": 4,
 "nbformat_minor": 4
}
